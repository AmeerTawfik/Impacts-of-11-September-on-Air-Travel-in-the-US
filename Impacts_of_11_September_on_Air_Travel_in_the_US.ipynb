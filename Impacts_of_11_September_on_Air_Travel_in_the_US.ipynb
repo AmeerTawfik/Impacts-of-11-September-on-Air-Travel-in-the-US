{
  "cells": [
    {
      "cell_type": "markdown",
      "id": "5993e97c-40d1-4336-bc22-83ab9559121a",
      "metadata": {
        "id": "5993e97c-40d1-4336-bc22-83ab9559121a"
      },
      "source": [
        "<center><b><font color='red' size=8>Impact of September 11 on Air Travel in the United States</font></b></center>"
      ]
    },
    {
      "cell_type": "markdown",
      "id": "ce14d80b-adb5-49bb-bd53-608eacf7e9d6",
      "metadata": {
        "id": "ce14d80b-adb5-49bb-bd53-608eacf7e9d6"
      },
      "source": [
        "---\n",
        "### An Introduction To The Problem. \"Background\"\n",
        "#### The Research and Innovative Technology Administration's Bureau of Transportation Statistics conducted a study to assess the impact of the September 11, 2001, terrorist attack on transportation in the US. The study aimed to analyze passenger travel behaviour patterns before and after 9/11. The report and data from the 2006 study can be found at [here](https://www.bts.gov/archive/publications/estimated_impacts_of_9_11_on_us_travel/index).\n",
        "---\n",
        "### Data Analysis:\n",
        "#### The study analyzed monthly passenger movement data between January 1990 and May 2004. The provided dataset, named Sept11Travel.csv, includes three monthly time series: actual airline revenue passenger miles (Air), rail passenger miles (Rail), and vehicle miles travelled (Car). To evaluate the impact of September 11, the Bureau of Transportation Statistics employed the following approach: they forecasted future data based on pre-September 11 information, assuming no terrorist attack, and compared the forecasted series with the actual data to determine the event's impact. Initially, the focus is on the pre-event time series.\n",
        "#### `Tasks:` The methods within each task as an ideas from me, but some of the implementation by Chat-Gpt.\n",
        "1. ####  Plot the pre-event AIR time series. What time series components appear? [Go to S.1](#S.1)\n",
        "2. #### Figure 17.11 shows a time plot of the seasonally adjusted pre-September-11 AIR series. Which of the following methods would be adequate for forecasting the series shown in the figure? [Go to S.2](#S.2)\n",
        "    * ##### Linear regression model seasonality\n",
        "    * ##### Linear regression model with trend\n",
        "    * ##### Linear regression model with trend and seasonality\n",
        "![image.png](attachment:d2e1e9fd-6b86-412c-a290-225fe2752f19.png)\n",
        "3. ####  Specify a linear regression model for the AIR series that would produce a seasonally adjusted series similar to the one shown in Figure 17.11, with multiplicative seasonality. What is the outcome variable? What are the predictors? [Go to S.3](#S.3)\n",
        "4. ####  Run the regression model from (c). Remember to use only pre-event data. [Go to S.4](#S.4)\n",
        "    * ##### What can we learn from the statistical insignificance of the coefficients for October and September?\n",
        "    * ##### The actual value of AIR (air revenue passenger miles) in January 1990 was 35.153577 billion. What is the residual for this month, using the regression model? Report the residual in terms of air revenue passenger miles.\n",
        "5. ####  Create an ACF (autocorrelation) plot of the regression residuals. [Go to S.5](#S.5)\n",
        "    * ##### What does the ACF plot tell us about the regression model’s forecasts?\n",
        "    * ##### How can this information be used to improve the model?\n",
        "6. ####  Fit linear regression models to Air, Rail, and to Auto with additive seasonality and an appropriate trend. For Air and Rail, fit a linear trend. For Rail, use a quadratic trend. Remember to use only pre-event data. Once the models are estimated, use them to forecast each of the three post-event series. [Go to S.6](#S.6)\n",
        "    * ##### For each series (Air, Rail, Auto), plot the complete pre-event and post-event actual series overlayed with the predicted series.\n",
        "    * ##### What can be said about the effect of the September 11 terrorist attack on the three modes of transportation? Discuss the magnitude of the effect, its time span, and any other relevant aspects"
      ]
    },
    {
      "cell_type": "markdown",
      "id": "6ce1cec6-ebae-4913-a4b0-f27761c1c02c",
      "metadata": {
        "id": "6ce1cec6-ebae-4913-a4b0-f27761c1c02c"
      },
      "source": [
        "---\n",
        "* #### Import Necessary Modules and Packages For The Implementation, This May Include:\n",
        "    - ##### Pandas.\n",
        "    - ##### Numpy.\n",
        "    - ##### Matplotlib.\n",
        "    - ##### Seaborn.\n",
        "    - ##### Statsmodels.m\n",
        "    - ##### Sk-Learn.\n",
        "    - ##### ....\n",
        "---"
      ]
    },
    {
      "cell_type": "code",
      "execution_count": null,
      "id": "fe8a9bf6-8f26-49ea-b540-05881bc67dd2",
      "metadata": {
        "id": "fe8a9bf6-8f26-49ea-b540-05881bc67dd2"
      },
      "outputs": [],
      "source": [
        "import pandas as pd\n",
        "import numpy as np\n",
        "import statsmodels.api as sm\n",
        "from statsmodels.graphics.tsaplots import plot_acf\n",
        "import seaborn as sns\n",
        "import matplotlib.pyplot as plt\n",
        "%matplotlib inline"
      ]
    },
    {
      "cell_type": "markdown",
      "id": "ba06fb23-c79b-4b4b-98d1-747dfb56ae76",
      "metadata": {
        "id": "ba06fb23-c79b-4b4b-98d1-747dfb56ae76"
      },
      "source": [
        "---\n",
        "* #### Read The Data and Have a General Look At It, To Gain More Insights About It.\n",
        "    - ##### `Note:` We Will Skip Reading The First 2 Rows From The Data, Since They Are Just Headers, and The Actual Dataset Starts After The First 2 Rows.\n",
        "---"
      ]
    },
    {
      "cell_type": "code",
      "execution_count": null,
      "id": "50c68a0d-88c2-4bd0-94c7-a2e6ceb11e56",
      "metadata": {
        "id": "50c68a0d-88c2-4bd0-94c7-a2e6ceb11e56",
        "outputId": "3c4f6922-45e1-4b9a-944a-9b733ced0018"
      },
      "outputs": [
        {
          "data": {
            "text/html": [
              "<div>\n",
              "<style scoped>\n",
              "    .dataframe tbody tr th:only-of-type {\n",
              "        vertical-align: middle;\n",
              "    }\n",
              "\n",
              "    .dataframe tbody tr th {\n",
              "        vertical-align: top;\n",
              "    }\n",
              "\n",
              "    .dataframe thead th {\n",
              "        text-align: right;\n",
              "    }\n",
              "</style>\n",
              "<table border=\"1\" class=\"dataframe\">\n",
              "  <thead>\n",
              "    <tr style=\"text-align: right;\">\n",
              "      <th></th>\n",
              "      <th>Unnamed: 0</th>\n",
              "      <th>Air RPM (000s)</th>\n",
              "      <th>Rail PM</th>\n",
              "      <th>VMT (billions)</th>\n",
              "    </tr>\n",
              "  </thead>\n",
              "  <tbody>\n",
              "    <tr>\n",
              "      <th>0</th>\n",
              "      <td>Jan-90</td>\n",
              "      <td>35,153,577</td>\n",
              "      <td>454,115,779</td>\n",
              "      <td>163.28</td>\n",
              "    </tr>\n",
              "    <tr>\n",
              "      <th>1</th>\n",
              "      <td>Feb-90</td>\n",
              "      <td>32,965,187</td>\n",
              "      <td>435,086,002</td>\n",
              "      <td>153.25</td>\n",
              "    </tr>\n",
              "    <tr>\n",
              "      <th>2</th>\n",
              "      <td>Mar-90</td>\n",
              "      <td>39,993,913</td>\n",
              "      <td>568,289,732</td>\n",
              "      <td>178.42</td>\n",
              "    </tr>\n",
              "    <tr>\n",
              "      <th>3</th>\n",
              "      <td>Apr-90</td>\n",
              "      <td>37,981,886</td>\n",
              "      <td>568,101,697</td>\n",
              "      <td>178.68</td>\n",
              "    </tr>\n",
              "    <tr>\n",
              "      <th>4</th>\n",
              "      <td>May-90</td>\n",
              "      <td>38,419,672</td>\n",
              "      <td>539,628,385</td>\n",
              "      <td>188.88</td>\n",
              "    </tr>\n",
              "    <tr>\n",
              "      <th>...</th>\n",
              "      <td>...</td>\n",
              "      <td>...</td>\n",
              "      <td>...</td>\n",
              "      <td>...</td>\n",
              "    </tr>\n",
              "    <tr>\n",
              "      <th>168</th>\n",
              "      <td>Jan-04</td>\n",
              "      <td>53,447,972</td>\n",
              "      <td>410,338,691</td>\n",
              "      <td>217.30</td>\n",
              "    </tr>\n",
              "    <tr>\n",
              "      <th>169</th>\n",
              "      <td>Feb-04</td>\n",
              "      <td>52,608,801</td>\n",
              "      <td>389,778,365</td>\n",
              "      <td>210.40</td>\n",
              "    </tr>\n",
              "    <tr>\n",
              "      <th>170</th>\n",
              "      <td>Mar-04</td>\n",
              "      <td>63,600,019</td>\n",
              "      <td>453,014,590</td>\n",
              "      <td>247.50</td>\n",
              "    </tr>\n",
              "    <tr>\n",
              "      <th>171</th>\n",
              "      <td>Apr-04</td>\n",
              "      <td>61,887,720</td>\n",
              "      <td>471,116,666</td>\n",
              "      <td>245.40</td>\n",
              "    </tr>\n",
              "    <tr>\n",
              "      <th>172</th>\n",
              "      <td>May-04</td>\n",
              "      <td>62,074,299</td>\n",
              "      <td>472,861,212</td>\n",
              "      <td>NaN</td>\n",
              "    </tr>\n",
              "  </tbody>\n",
              "</table>\n",
              "<p>173 rows × 4 columns</p>\n",
              "</div>"
            ],
            "text/plain": [
              "    Unnamed: 0 Air RPM (000s)      Rail PM  VMT (billions)\n",
              "0       Jan-90     35,153,577  454,115,779          163.28\n",
              "1       Feb-90     32,965,187  435,086,002          153.25\n",
              "2       Mar-90     39,993,913  568,289,732          178.42\n",
              "3       Apr-90     37,981,886  568,101,697          178.68\n",
              "4       May-90     38,419,672  539,628,385          188.88\n",
              "..         ...            ...          ...             ...\n",
              "168     Jan-04     53,447,972  410,338,691          217.30\n",
              "169     Feb-04     52,608,801  389,778,365          210.40\n",
              "170     Mar-04     63,600,019  453,014,590          247.50\n",
              "171     Apr-04     61,887,720  471,116,666          245.40\n",
              "172     May-04     62,074,299  472,861,212             NaN\n",
              "\n",
              "[173 rows x 4 columns]"
            ]
          },
          "execution_count": 2,
          "metadata": {},
          "output_type": "execute_result"
        }
      ],
      "source": [
        "data = pd.read_csv('table_c01.csv', skiprows=2)\n",
        "data"
      ]
    },
    {
      "cell_type": "code",
      "execution_count": null,
      "id": "8d82e125-6446-460f-9add-10431aa11cbd",
      "metadata": {
        "id": "8d82e125-6446-460f-9add-10431aa11cbd",
        "outputId": "c0c4cbce-44fc-4314-8682-31a57f9cc0e3"
      },
      "outputs": [
        {
          "name": "stdout",
          "output_type": "stream",
          "text": [
            "<class 'pandas.core.frame.DataFrame'>\n",
            "RangeIndex: 173 entries, 0 to 172\n",
            "Data columns (total 4 columns):\n",
            " #   Column          Non-Null Count  Dtype  \n",
            "---  ------          --------------  -----  \n",
            " 0   Unnamed: 0      173 non-null    object \n",
            " 1   Air RPM (000s)  173 non-null    object \n",
            " 2   Rail PM         173 non-null    object \n",
            " 3   VMT (billions)  172 non-null    float64\n",
            "dtypes: float64(1), object(3)\n",
            "memory usage: 5.5+ KB\n"
          ]
        }
      ],
      "source": [
        "data.info()"
      ]
    },
    {
      "cell_type": "markdown",
      "id": "8f51cb23-56f8-4fed-a94b-c42caca7c948",
      "metadata": {
        "id": "8f51cb23-56f8-4fed-a94b-c42caca7c948"
      },
      "source": [
        "---\n",
        "* #### We Can See That From The Previous Cells, That The First column Is Supposed To Represent The Date. Also We Got 1 Missing Value In `VMT (billions)` Column, and For The Data Types, All of Them Except `VMT (billions)` Column Needs To Be Converted Into The Right Dtype.\n",
        "* #### We Are Going To Perform Some Simple Preprocessing, To Make The Data More Easy To Read and Correct For Many Sides.\n",
        "---"
      ]
    },
    {
      "cell_type": "code",
      "execution_count": null,
      "id": "6c391375-aaea-40f7-855e-2b46c7f08c61",
      "metadata": {
        "id": "6c391375-aaea-40f7-855e-2b46c7f08c61",
        "outputId": "2fe26104-5315-4b54-aaf2-181d2dd97a02"
      },
      "outputs": [
        {
          "data": {
            "text/html": [
              "<div>\n",
              "<style scoped>\n",
              "    .dataframe tbody tr th:only-of-type {\n",
              "        vertical-align: middle;\n",
              "    }\n",
              "\n",
              "    .dataframe tbody tr th {\n",
              "        vertical-align: top;\n",
              "    }\n",
              "\n",
              "    .dataframe thead th {\n",
              "        text-align: right;\n",
              "    }\n",
              "</style>\n",
              "<table border=\"1\" class=\"dataframe\">\n",
              "  <thead>\n",
              "    <tr style=\"text-align: right;\">\n",
              "      <th></th>\n",
              "      <th>Date</th>\n",
              "      <th>Air_RPM_000s</th>\n",
              "      <th>Rail_PM</th>\n",
              "      <th>VMT_billions</th>\n",
              "    </tr>\n",
              "  </thead>\n",
              "  <tbody>\n",
              "    <tr>\n",
              "      <th>0</th>\n",
              "      <td>1990-01-01</td>\n",
              "      <td>35153577</td>\n",
              "      <td>454115779</td>\n",
              "      <td>163.28</td>\n",
              "    </tr>\n",
              "    <tr>\n",
              "      <th>1</th>\n",
              "      <td>1990-02-01</td>\n",
              "      <td>32965187</td>\n",
              "      <td>435086002</td>\n",
              "      <td>153.25</td>\n",
              "    </tr>\n",
              "    <tr>\n",
              "      <th>2</th>\n",
              "      <td>1990-03-01</td>\n",
              "      <td>39993913</td>\n",
              "      <td>568289732</td>\n",
              "      <td>178.42</td>\n",
              "    </tr>\n",
              "    <tr>\n",
              "      <th>3</th>\n",
              "      <td>1990-04-01</td>\n",
              "      <td>37981886</td>\n",
              "      <td>568101697</td>\n",
              "      <td>178.68</td>\n",
              "    </tr>\n",
              "    <tr>\n",
              "      <th>4</th>\n",
              "      <td>1990-05-01</td>\n",
              "      <td>38419672</td>\n",
              "      <td>539628385</td>\n",
              "      <td>188.88</td>\n",
              "    </tr>\n",
              "  </tbody>\n",
              "</table>\n",
              "</div>"
            ],
            "text/plain": [
              "        Date  Air_RPM_000s    Rail_PM  VMT_billions\n",
              "0 1990-01-01      35153577  454115779        163.28\n",
              "1 1990-02-01      32965187  435086002        153.25\n",
              "2 1990-03-01      39993913  568289732        178.42\n",
              "3 1990-04-01      37981886  568101697        178.68\n",
              "4 1990-05-01      38419672  539628385        188.88"
            ]
          },
          "execution_count": 4,
          "metadata": {},
          "output_type": "execute_result"
        }
      ],
      "source": [
        "data.columns = ['Date','Air_RPM_000s', 'Rail_PM', 'VMT_billions']\n",
        "data['Air_RPM_000s'] = pd.to_numeric(data['Air_RPM_000s'].str.replace(',', ''), errors='coerce')\n",
        "data['Rail_PM'] = pd.to_numeric(data['Rail_PM'].str.replace(',', ''), errors='coerce')\n",
        "data['Date'] = pd.to_datetime(data['Date'], format='%b-%y')\n",
        "data.head()"
      ]
    },
    {
      "cell_type": "code",
      "execution_count": null,
      "id": "0ef10465-d23a-4049-8893-da79b67a3fbb",
      "metadata": {
        "id": "0ef10465-d23a-4049-8893-da79b67a3fbb",
        "outputId": "ff34dd89-1c48-43bf-e978-89483c9b99e7"
      },
      "outputs": [
        {
          "name": "stdout",
          "output_type": "stream",
          "text": [
            "<class 'pandas.core.frame.DataFrame'>\n",
            "RangeIndex: 173 entries, 0 to 172\n",
            "Data columns (total 4 columns):\n",
            " #   Column        Non-Null Count  Dtype         \n",
            "---  ------        --------------  -----         \n",
            " 0   Date          173 non-null    datetime64[ns]\n",
            " 1   Air_RPM_000s  173 non-null    int64         \n",
            " 2   Rail_PM       173 non-null    int64         \n",
            " 3   VMT_billions  172 non-null    float64       \n",
            "dtypes: datetime64[ns](1), float64(1), int64(2)\n",
            "memory usage: 5.5 KB\n"
          ]
        }
      ],
      "source": [
        "data.info()"
      ]
    },
    {
      "cell_type": "markdown",
      "id": "f507a74c-e80d-4b79-8313-afe5e5e7d0d0",
      "metadata": {
        "jp-MarkdownHeadingCollapsed": true,
        "tags": [],
        "id": "f507a74c-e80d-4b79-8313-afe5e5e7d0d0"
      },
      "source": [
        "---\n",
        "<a id=\"S.1\"></a>\n",
        "* #### This Is The Solution For The First Question.\n",
        "---"
      ]
    },
    {
      "cell_type": "code",
      "execution_count": null,
      "id": "a76ca586-bc9d-4dc2-8b2d-9d8e0431fc67",
      "metadata": {
        "id": "a76ca586-bc9d-4dc2-8b2d-9d8e0431fc67"
      },
      "outputs": [],
      "source": [
        "preEvent_mask = data['Date'] <= pd.Timestamp('2001-09-11')\n",
        "preEvent_data = data[preEvent_mask]\n",
        "preEvent_data.head()"
      ]
    },
    {
      "cell_type": "code",
      "execution_count": null,
      "id": "46dd266c-5643-4201-9968-892576cc6806",
      "metadata": {
        "id": "46dd266c-5643-4201-9968-892576cc6806"
      },
      "outputs": [],
      "source": [
        "# Plot the pre-event data\n",
        "plt.plot(preEvent_data['Date'], preEvent_data['Air_RPM_000s'])\n",
        "plt.xlabel('Date')\n",
        "plt.ylabel('Air RPM (000s)')\n",
        "plt.title('Pre-Event AIR Time Series')\n",
        "plt.xticks(rotation=45)\n",
        "plt.show()"
      ]
    },
    {
      "cell_type": "markdown",
      "id": "01c51c47-1f1e-4e9c-b771-d1026c787fbe",
      "metadata": {
        "id": "01c51c47-1f1e-4e9c-b771-d1026c787fbe"
      },
      "source": [
        "---\n",
        "* ### From The Graph Up, We Can See That 3 of Time Series Components Exists:\n",
        "    - #### Noise: As \"It is always present in a time series to some degree Pg442.\", and It Represents The Random or Unpredictable Fluctuations in The Time Series That Cannot be Attributed To Other Components.\n",
        "    - #### Trend: Since There Is a Clear and Persistent Upward or Downward Movement in The Time Series Plot.\n",
        "    - #### Seasonality: Since There Is Repeated Patterns or Cycles That Occur Within a Fixed Time Interval\n",
        "* ##### `Note:` Level component does not exist since there is no part of the time series plot where the values there is like constant through a period of time, to present a horizontal line without any upward or downward movement."
      ]
    },
    {
      "cell_type": "markdown",
      "id": "ed0c2fa4-f53f-4d9d-acf6-e7ff3b729b7f",
      "metadata": {
        "tags": [],
        "id": "ed0c2fa4-f53f-4d9d-acf6-e7ff3b729b7f"
      },
      "source": [
        "---\n",
        "<a id=\"S.2\"></a>\n",
        "* ### This Is The Solution For The Second Question.\n",
        "    - #### From The Graph in The Question, We Will Pick `Linear Regression Model With Trend`, Since There Is Only `Trend` Component Appear in The Plot. But We Might Assume That There Is `Seasonality`, Since There Is At Some Small Periods, We May Consider Them As Cycles."
      ]
    },
    {
      "cell_type": "markdown",
      "id": "9d9d9450-a42c-4cc5-893d-74484ba2a759",
      "metadata": {
        "id": "9d9d9450-a42c-4cc5-893d-74484ba2a759"
      },
      "source": [
        "---\n",
        "<a id=\"S.3\"></a>\n",
        "* ### This Is The Solution For The Third Question.\n",
        "* #### In This Part, We Will:\n",
        "    - ##### Create Dummy Variables For Each Month Using `pd.get_dummies()` After Extracting Them From The Dataset, Which Will Serve As Predictors Capturing The Multiplicative Seasonality\n",
        "    - ##### The `sm.add_constant()` Function Adds an Intercept Column To The Predictors.\n",
        "    - ##### Fit The Linear Regression Model `OLS`.\n",
        "    - ##### Predict To Obtain The Estimated Coefficients And Other Statistical Information.\n",
        "    - ##### Print Out a Summary of The Model, Including The `Coefficients`, `p-values`, and Other Statistical Measures.\n",
        "---"
      ]
    },
    {
      "cell_type": "code",
      "execution_count": null,
      "id": "e9f8be2f-2c94-4c03-92c8-04d27d4e1241",
      "metadata": {
        "id": "e9f8be2f-2c94-4c03-92c8-04d27d4e1241"
      },
      "outputs": [],
      "source": [
        "preEvent_data['Month'] = preEvent_data['Date'].dt.month\n",
        "preEvent_data.head()"
      ]
    },
    {
      "cell_type": "code",
      "execution_count": null,
      "id": "4f76fe82-289b-4696-8d53-98d3f899f9da",
      "metadata": {
        "id": "4f76fe82-289b-4696-8d53-98d3f899f9da"
      },
      "outputs": [],
      "source": [
        "X = pd.get_dummies(preEvent_data['Month'], prefix='month')  # Predictors.\n",
        "y = preEvent_data['Air_RPM_000s']  # Outcome Variable.\n",
        "\n",
        "X = sm.add_constant(X)\n",
        "\n",
        "model = sm.OLS(y, X)\n",
        "results = model.fit()\n",
        "\n",
        "seasonally_adjusted = results.predict(X)\n",
        "\n",
        "# Print the model summary\n",
        "print(results.summary())"
      ]
    },
    {
      "cell_type": "markdown",
      "id": "aa157c9f-bd09-412c-81c4-0b55e7459dc2",
      "metadata": {
        "id": "aa157c9f-bd09-412c-81c4-0b55e7459dc2"
      },
      "source": [
        "---\n",
        "* ### From The Summary of The Model Up, and The Approach We Used, We Can Determine That:\n",
        "    - #### The Outcome Variable: 'Air RPM (000s)'\n",
        "    - #### The Predictors: Dummy Variables Representing The Months, e.g., 'month_1', 'month_2', 'month_3', and so on."
      ]
    },
    {
      "cell_type": "markdown",
      "id": "bfb7433b-7bbe-4e0c-b3ec-f8e7f078b57e",
      "metadata": {
        "id": "bfb7433b-7bbe-4e0c-b3ec-f8e7f078b57e"
      },
      "source": [
        "---\n",
        "<a id=\"S.4\"></a>\n",
        "* ### This Is The Solution For The Forth Question.\n",
        "* ### In This Part, We Have:\n",
        "    - #### Run The Regression Model From The Previous Question.\n",
        "    - #### Determined What Can We Learn From The Statistical Insignificance of The Coefficients For October and September.\n",
        "        + ##### `Answer:` From The Statistical Insignificance of The Coefficients For October and September, Indicated By The P-values Of 0.111 and 0.568 Respectively, We Can Conclude That There Is No Strong Evidence To Suggest A Significant Effect Of These Months On The `Air_RPM_000s` Series. Therefore, Based On The Current Model And Data, We Cannot Conclude That October Or September Have A Significant Impact On The Series.\n",
        "    - #### Determined What The Residual Is For `Jan 1990` Month Using The Regression Model, and Report The Residual In Terms of Air Revenue Passenger Miles.\n",
        "        + ##### `Answer:` Using The Regression Model, The Predicted Value For The `Air_RPM_000s` Series In January 1990 Is 44,400,000 (44.4 Million) Based On The Constant Coefficient (Intercept) of 4.44e+07. Therefore, The Residual Can Be Calculated As:\n",
        "            * ###### Residual = Actual value - Predicted value = 35.153577 billion - 44,400,000.\n",
        "            * ###### The resulting value represents the residual in terms of air revenue passenger miles for January 1990. Please ensure that the units of the actual value and the regression model predictions are consistent (e.g., both in billions or both in millions) to obtain an accurate residual."
      ]
    },
    {
      "cell_type": "markdown",
      "id": "f370a9bd-4fb1-4f18-97b2-4c14cd9c62d7",
      "metadata": {
        "id": "f370a9bd-4fb1-4f18-97b2-4c14cd9c62d7"
      },
      "source": [
        "---\n",
        "<a id=\"S.5\"></a>\n",
        "* ### This Is The Solution For The Fifth Question.\n",
        "* ### In This Part, We Have:\n",
        "    - #### Determined What The `ACF` Plot Tells Us About The Regression Model’s Forecasts.\n",
        "        + ##### `Answer:` The `ACF` Plot Helps Us Assess The Autocorrelation of The Residuals, Which Is A Measure of How The Residuals Are Correlated With Their Lagged Values. If The Acf Plot Shows That The Autocorrelation Values Are Close To Zero For Most Lags And Fall Within The Confidence Intervals (Represented By The Blue Shaded Area), It Indicates That The Regression Model's Forecasts Do Not Exhibit Significant Systematic Patterns or Correlation Structure.\n",
        "    - #### Determined How This Information Can Be Used To Improve The Model.\n",
        "        + ##### `Answer:` The information Obtained From The `ACF` Plot Can Be Used To Improve The Model In The Following Ways:\n",
        "            1. ###### Identify Autocorrelation: The `ACF` Plot Helps Identify The Presence Of Autocorrelation In The Residuals of The Regression Model. If Significant Autocorrelation Is Observed At Certain Lags, It Indicates That The Current Model May Not Capture All The Temporal Dependencies In The Data.\n",
        "            \n",
        "            2. ###### Refine Predictor Variables: Based On The Autocorrelation Patterns Observed In The Acf Plot, We Can Refine The Predictor Variables Used In The Model. This May Involve Adding Lagged Values of The Target Variable or Incorporating Other Relevant Time-related Features To Capture The Autocorrelation Structure Better.\n",
        "            \n",
        "            3. ###### Explore Time Series Models: If The Autocorrelation Is Substantial and Cannot Be Adequately Captured By Refining The Predictor Variables In A Linear Regression Model, It May Be Necessary To Explore Time Series Models. Time Series Models, Such As Arima Or Sarimax, Are Specifically Designed To Handle Autocorrelation And Can Provide Better Forecasts By Considering The Temporal Dependencies In The Data.\n",
        "            \n",
        "            4. ###### Model Residuals: Analyzing The `ACF` Plot of The Residuals Can Reveal Any Remaining Patterns or Correlations That Are Not Captured By The Current Model. By Incorporating Additional Terms or More Sophisticated Modeling Techniques, Such As Autoregressive or Moving Average Terms, You Can Account For The Residual Autocorrelation And Further Improve The Model's Forecasting Performance."
      ]
    },
    {
      "cell_type": "code",
      "execution_count": null,
      "id": "781b6fb8-18c8-487e-89cd-e3b9961731b6",
      "metadata": {
        "id": "781b6fb8-18c8-487e-89cd-e3b9961731b6"
      },
      "outputs": [],
      "source": [
        "# Calculate the residuals\n",
        "residuals = results.resid\n",
        "# Assuming 'residuals' is the variable that contains the regression residuals\n",
        "plot_acf(residuals, lags=20)  # Adjust the number of lags as needed\n",
        "plt.xlabel('Lags')\n",
        "plt.ylabel('Autocorrelation')\n",
        "plt.title('Autocorrelation Plot of Regression Residuals')\n",
        "plt.show()"
      ]
    },
    {
      "cell_type": "markdown",
      "id": "daa1275c-5da9-4e89-87d1-613957a811a0",
      "metadata": {
        "id": "daa1275c-5da9-4e89-87d1-613957a811a0"
      },
      "source": [
        "---\n",
        "<a id=\"S.6\"></a>\n",
        "* ### This Is The Solution For The Sixth `Final` Question.\n",
        "* ### In This Part, We Have:\n",
        "    - #### Got Data After That Event.\n",
        "    - #### Fitted Linear Regression Mdel To respected Columns With Additive Seasonality and Linear Trend `SARIMAX`.\n",
        "    - #### Estimated The Models.\n",
        "    - #### Forecasted Each of The Three `post-event` Series Using The Estimatted Models.\n",
        "    - #### Stored The Forecasted Values Into `post-event` DataFrame.\n",
        "    - #### Plotted The `pre-event` Actual `Air RPM, Rail PM, VMT` Values Against The Corresponding Dates.\n",
        "    - #### Plotted The `post-event` Actual `Air RPM, Rail PM, VMT` Values Against The Corresponding Dates.\n",
        "    - #### Determined What Can Be Said About The Effect Of The September 11 Terrorist Attack on Thethree Modes of Transportation, The Magnitude of The Effect, Its Time Span, ....\n",
        "        + ##### `Answer:` Based On The Observations From The Graps Below, It Can Be Concluded That The September 11 Attack Had A Notable Effect on `Air Transportation`, With a Visible Drop In The Post-event Period. However, `Rail` and `VMT` Do Not Exhibit Significant Changes In The Post-event Series."
      ]
    },
    {
      "cell_type": "code",
      "execution_count": null,
      "id": "87e353b0-92cc-4d8d-a09a-8dc9ad310bb7",
      "metadata": {
        "id": "87e353b0-92cc-4d8d-a09a-8dc9ad310bb7"
      },
      "outputs": [],
      "source": [
        "postEvent_mask = data['Date'] > pd.Timestamp('2001-09-11')\n",
        "postEvent_data = data[postEvent_mask]\n",
        "postEvent_data.head()"
      ]
    },
    {
      "cell_type": "code",
      "execution_count": null,
      "id": "981dd3ff-706b-4230-951f-cb8ac51a32c5",
      "metadata": {
        "id": "981dd3ff-706b-4230-951f-cb8ac51a32c5"
      },
      "outputs": [],
      "source": [
        "air_model = sm.tsa.statespace.SARIMAX(preEvent_data['Air_RPM_000s'], order=(1,1,1), seasonal_order=(1,1,1,12), trend='t')\n",
        "rail_model = sm.tsa.statespace.SARIMAX(preEvent_data['Rail_PM'], order=(1,1,1), seasonal_order=(1,1,1,12), trend='t', trend_offset=1)\n",
        "vmt_model = sm.tsa.statespace.SARIMAX(preEvent_data['VMT_billions'], order=(1,1,1), seasonal_order=(1,1,1,12), trend='t')\n",
        "\n",
        "air_results = air_model.fit()\n",
        "rail_results = rail_model.fit()\n",
        "auto_results = vmt_model.fit()\n",
        "\n",
        "air_forecast = air_results.forecast(steps=len(postEvent_data))\n",
        "rail_forecast = rail_results.forecast(steps=len(postEvent_data))\n",
        "auto_forecast = auto_results.forecast(steps=len(postEvent_data))\n",
        "\n",
        "postEvent_data['Predicted_Air'] = air_forecast\n",
        "postEvent_data['Predicted_Rail'] = rail_forecast\n",
        "postEvent_data['Predicted_VMT'] = auto_forecast\n",
        "\n",
        "postEvent_data.head()"
      ]
    },
    {
      "cell_type": "code",
      "execution_count": null,
      "id": "5b103a28-e93a-4e9c-bee7-e6371e2cbd06",
      "metadata": {
        "id": "5b103a28-e93a-4e9c-bee7-e6371e2cbd06"
      },
      "outputs": [],
      "source": [
        "plt.plot(preEvent_data['Date'], preEvent_data['Air_RPM_000s'], label='Pre-event Actual')\n",
        "plt.plot(postEvent_data['Date'], postEvent_data['Air_RPM_000s'], label='Post-event Actual')\n",
        "plt.plot(postEvent_data['Date'], postEvent_data['Predicted_Air'], label='Predicted')\n",
        "plt.xlabel('Date')\n",
        "plt.ylabel('Air Transportation (millions)')\n",
        "plt.title('Air Transportation')\n",
        "plt.legend()\n",
        "plt.show()\n",
        "\n",
        "plt.plot(preEvent_data['Date'], preEvent_data['Rail_PM'], label='Pre-event Actual')\n",
        "plt.plot(postEvent_data['Date'], postEvent_data['Rail_PM'], label='Post-event Actual')\n",
        "plt.plot(postEvent_data['Date'], postEvent_data['Predicted_Rail'], label='Predicted')\n",
        "plt.xlabel('Date')\n",
        "plt.ylabel('Rail PM')\n",
        "plt.title('Rail PM')\n",
        "plt.legend()\n",
        "plt.show()\n",
        "\n",
        "plt.plot(preEvent_data['Date'], preEvent_data['VMT_billions'], label='Pre-event Actual')\n",
        "plt.plot(postEvent_data['Date'], postEvent_data['VMT_billions'], label='Post-event Actual')\n",
        "plt.plot(postEvent_data['Date'], postEvent_data['Predicted_VMT'], label='Predicted')\n",
        "plt.xlabel('Date')\n",
        "plt.ylabel('VMT (billions)')\n",
        "plt.title('VMT (billions)')\n",
        "plt.legend()\n",
        "plt.show()"
      ]
    },
    {
      "cell_type": "code",
      "execution_count": null,
      "id": "350d6da1-c7f3-44bb-ad33-37b9bce2fb35",
      "metadata": {
        "id": "350d6da1-c7f3-44bb-ad33-37b9bce2fb35"
      },
      "outputs": [],
      "source": []
    }
  ],
  "metadata": {
    "kernelspec": {
      "display_name": "Python 3 (ipykernel)",
      "language": "python",
      "name": "python3"
    },
    "language_info": {
      "codemirror_mode": {
        "name": "ipython",
        "version": 3
      },
      "file_extension": ".py",
      "mimetype": "text/x-python",
      "name": "python",
      "nbconvert_exporter": "python",
      "pygments_lexer": "ipython3",
      "version": "3.9.13"
    },
    "colab": {
      "provenance": []
    }
  },
  "nbformat": 4,
  "nbformat_minor": 5
}